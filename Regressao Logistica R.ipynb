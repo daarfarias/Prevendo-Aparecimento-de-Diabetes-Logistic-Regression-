{
 "cells": [
  {
   "cell_type": "markdown",
   "id": "known-playing",
   "metadata": {},
   "source": [
    "# PREVENDO O APARECIMENTO DE DIABETES (LOGISTIC REGRESSION)"
   ]
  },
  {
   "cell_type": "markdown",
   "id": "cutting-unknown",
   "metadata": {},
   "source": [
    "> *Este conjunto de dados é originalmente do Instituto Nacional de Diabetes e Doenças Digestivas e Renais. Seu objetivo é prever se um paciente tem diabetes ou não, com base em certas medidas diagnósticas incluídas no conjunto de dados. Várias restrições foram colocadas na seleção dessas instâncias de um banco de dados maior. Em particular, todos os pacientes aqui são mulheres com pelo menos 21 anos de herança indígena Pima.*\n",
    "\n",
    "<br>\n",
    "\n",
    "Dataset: https://www.kaggle.com/uciml/pima-indians-diabetes-database"
   ]
  },
  {
   "cell_type": "markdown",
   "id": "sapphire-district",
   "metadata": {},
   "source": [
    "## 1. CARREGAR PACOTES E IMPORTAR OS DADOS"
   ]
  },
  {
   "cell_type": "code",
   "execution_count": 1,
   "id": "nuclear-offset",
   "metadata": {},
   "outputs": [
    {
     "name": "stderr",
     "output_type": "stream",
     "text": [
      "Warning message:\n",
      "\"package 'caret' was built under R version 3.6.3\"Loading required package: lattice\n",
      "Loading required package: ggplot2\n",
      "Warning message:\n",
      "\"package 'ggplot2' was built under R version 3.6.3\"Warning message:\n",
      "\"package 'ROCR' was built under R version 3.6.3\"Warning message:\n",
      "\"package 'e1071' was built under R version 3.6.3\"Warning message:\n",
      "\"package 'tidyverse' was built under R version 3.6.3\"-- Attaching packages --------------------------------------- tidyverse 1.3.0 --\n",
      "v tibble  3.0.6     v dplyr   1.0.4\n",
      "v tidyr   1.1.2     v stringr 1.4.0\n",
      "v readr   1.3.1     v forcats 0.4.0\n",
      "v purrr   0.3.4     \n",
      "Warning message:\n",
      "\"package 'tibble' was built under R version 3.6.3\"Warning message:\n",
      "\"package 'tidyr' was built under R version 3.6.3\"Warning message:\n",
      "\"package 'purrr' was built under R version 3.6.3\"Warning message:\n",
      "\"package 'dplyr' was built under R version 3.6.3\"-- Conflicts ------------------------------------------ tidyverse_conflicts() --\n",
      "x dplyr::filter() masks stats::filter()\n",
      "x dplyr::lag()    masks stats::lag()\n",
      "x purrr::lift()   masks caret::lift()\n",
      "Warning message:\n",
      "\"package 'gridExtra' was built under R version 3.6.3\"\n",
      "Attaching package: 'gridExtra'\n",
      "\n",
      "The following object is masked from 'package:dplyr':\n",
      "\n",
      "    combine\n",
      "\n",
      "Warning message:\n",
      "\"package 'pROC' was built under R version 3.6.3\"Type 'citation(\"pROC\")' for a citation.\n",
      "\n",
      "Attaching package: 'pROC'\n",
      "\n",
      "The following objects are masked from 'package:stats':\n",
      "\n",
      "    cov, smooth, var\n",
      "\n",
      "Warning message:\n",
      "\"package 'precrec' was built under R version 3.6.3\"\n",
      "Attaching package: 'precrec'\n",
      "\n",
      "The following object is masked from 'package:pROC':\n",
      "\n",
      "    auc\n",
      "\n",
      "Warning message:\n",
      "\"package 'corrplot' was built under R version 3.6.3\"corrplot 0.84 loaded\n"
     ]
    }
   ],
   "source": [
    "# Carregando os pacotes\n",
    "library(caret)\n",
    "library(ROCR) \n",
    "library(e1071)\n",
    "library(tidyverse)\n",
    "library(gridExtra)\n",
    "library(pROC)\n",
    "library(precrec)\n",
    "library(corrplot)"
   ]
  },
  {
   "cell_type": "code",
   "execution_count": 2,
   "id": "alleged-supply",
   "metadata": {},
   "outputs": [],
   "source": [
    "# Carregando o dataset um um dataframe\n",
    "df_diabetes<- read.csv(\"diabetes.csv\")"
   ]
  },
  {
   "cell_type": "code",
   "execution_count": 3,
   "id": "bottom-trading",
   "metadata": {},
   "outputs": [
    {
     "data": {
      "text/plain": [
       "  Pregnancies        Glucose      BloodPressure    SkinThickness  \n",
       " Min.   : 0.000   Min.   :  0.0   Min.   :  0.00   Min.   : 0.00  \n",
       " 1st Qu.: 1.000   1st Qu.: 99.0   1st Qu.: 62.00   1st Qu.: 0.00  \n",
       " Median : 3.000   Median :117.0   Median : 72.00   Median :23.00  \n",
       " Mean   : 3.845   Mean   :120.9   Mean   : 69.11   Mean   :20.54  \n",
       " 3rd Qu.: 6.000   3rd Qu.:140.2   3rd Qu.: 80.00   3rd Qu.:32.00  \n",
       " Max.   :17.000   Max.   :199.0   Max.   :122.00   Max.   :99.00  \n",
       "    Insulin           BMI        DiabetesPedigreeFunction      Age       \n",
       " Min.   :  0.0   Min.   : 0.00   Min.   :0.0780           Min.   :21.00  \n",
       " 1st Qu.:  0.0   1st Qu.:27.30   1st Qu.:0.2437           1st Qu.:24.00  \n",
       " Median : 30.5   Median :32.00   Median :0.3725           Median :29.00  \n",
       " Mean   : 79.8   Mean   :31.99   Mean   :0.4719           Mean   :33.24  \n",
       " 3rd Qu.:127.2   3rd Qu.:36.60   3rd Qu.:0.6262           3rd Qu.:41.00  \n",
       " Max.   :846.0   Max.   :67.10   Max.   :2.4200           Max.   :81.00  \n",
       "    Outcome     \n",
       " Min.   :0.000  \n",
       " 1st Qu.:0.000  \n",
       " Median :0.000  \n",
       " Mean   :0.349  \n",
       " 3rd Qu.:1.000  \n",
       " Max.   :1.000  "
      ]
     },
     "metadata": {},
     "output_type": "display_data"
    }
   ],
   "source": [
    "# Sumário dos dados\n",
    "summary(df_diabetes)"
   ]
  },
  {
   "cell_type": "code",
   "execution_count": 4,
   "id": "supported-fireplace",
   "metadata": {},
   "outputs": [
    {
     "data": {
      "text/html": [
       "<table>\n",
       "<thead><tr><th scope=col>Pregnancies</th><th scope=col>Glucose</th><th scope=col>BloodPressure</th><th scope=col>SkinThickness</th><th scope=col>Insulin</th><th scope=col>BMI</th><th scope=col>DiabetesPedigreeFunction</th><th scope=col>Age</th><th scope=col>Outcome</th></tr></thead>\n",
       "<tbody>\n",
       "\t<tr><td>6    </td><td>148  </td><td>72   </td><td>35   </td><td>  0  </td><td>33.6 </td><td>0.627</td><td>50   </td><td>1    </td></tr>\n",
       "\t<tr><td>1    </td><td> 85  </td><td>66   </td><td>29   </td><td>  0  </td><td>26.6 </td><td>0.351</td><td>31   </td><td>0    </td></tr>\n",
       "\t<tr><td>8    </td><td>183  </td><td>64   </td><td> 0   </td><td>  0  </td><td>23.3 </td><td>0.672</td><td>32   </td><td>1    </td></tr>\n",
       "\t<tr><td>1    </td><td> 89  </td><td>66   </td><td>23   </td><td> 94  </td><td>28.1 </td><td>0.167</td><td>21   </td><td>0    </td></tr>\n",
       "\t<tr><td>0    </td><td>137  </td><td>40   </td><td>35   </td><td>168  </td><td>43.1 </td><td>2.288</td><td>33   </td><td>1    </td></tr>\n",
       "\t<tr><td>5    </td><td>116  </td><td>74   </td><td> 0   </td><td>  0  </td><td>25.6 </td><td>0.201</td><td>30   </td><td>0    </td></tr>\n",
       "</tbody>\n",
       "</table>\n"
      ],
      "text/latex": [
       "\\begin{tabular}{r|lllllllll}\n",
       " Pregnancies & Glucose & BloodPressure & SkinThickness & Insulin & BMI & DiabetesPedigreeFunction & Age & Outcome\\\\\n",
       "\\hline\n",
       "\t 6     & 148   & 72    & 35    &   0   & 33.6  & 0.627 & 50    & 1    \\\\\n",
       "\t 1     &  85   & 66    & 29    &   0   & 26.6  & 0.351 & 31    & 0    \\\\\n",
       "\t 8     & 183   & 64    &  0    &   0   & 23.3  & 0.672 & 32    & 1    \\\\\n",
       "\t 1     &  89   & 66    & 23    &  94   & 28.1  & 0.167 & 21    & 0    \\\\\n",
       "\t 0     & 137   & 40    & 35    & 168   & 43.1  & 2.288 & 33    & 1    \\\\\n",
       "\t 5     & 116   & 74    &  0    &   0   & 25.6  & 0.201 & 30    & 0    \\\\\n",
       "\\end{tabular}\n"
      ],
      "text/markdown": [
       "\n",
       "| Pregnancies | Glucose | BloodPressure | SkinThickness | Insulin | BMI | DiabetesPedigreeFunction | Age | Outcome |\n",
       "|---|---|---|---|---|---|---|---|---|\n",
       "| 6     | 148   | 72    | 35    |   0   | 33.6  | 0.627 | 50    | 1     |\n",
       "| 1     |  85   | 66    | 29    |   0   | 26.6  | 0.351 | 31    | 0     |\n",
       "| 8     | 183   | 64    |  0    |   0   | 23.3  | 0.672 | 32    | 1     |\n",
       "| 1     |  89   | 66    | 23    |  94   | 28.1  | 0.167 | 21    | 0     |\n",
       "| 0     | 137   | 40    | 35    | 168   | 43.1  | 2.288 | 33    | 1     |\n",
       "| 5     | 116   | 74    |  0    |   0   | 25.6  | 0.201 | 30    | 0     |\n",
       "\n"
      ],
      "text/plain": [
       "  Pregnancies Glucose BloodPressure SkinThickness Insulin BMI \n",
       "1 6           148     72            35              0     33.6\n",
       "2 1            85     66            29              0     26.6\n",
       "3 8           183     64             0              0     23.3\n",
       "4 1            89     66            23             94     28.1\n",
       "5 0           137     40            35            168     43.1\n",
       "6 5           116     74             0              0     25.6\n",
       "  DiabetesPedigreeFunction Age Outcome\n",
       "1 0.627                    50  1      \n",
       "2 0.351                    31  0      \n",
       "3 0.672                    32  1      \n",
       "4 0.167                    21  0      \n",
       "5 2.288                    33  1      \n",
       "6 0.201                    30  0      "
      ]
     },
     "metadata": {},
     "output_type": "display_data"
    }
   ],
   "source": [
    "# Visualizar as seis primeiras linhas\n",
    "head(df_diabetes)"
   ]
  },
  {
   "cell_type": "code",
   "execution_count": 5,
   "id": "unauthorized-china",
   "metadata": {},
   "outputs": [
    {
     "data": {
      "text/html": [
       "<table>\n",
       "<thead><tr><th></th><th scope=col>Pregnancies</th><th scope=col>Glucose</th><th scope=col>BloodPressure</th><th scope=col>SkinThickness</th><th scope=col>Insulin</th><th scope=col>BMI</th><th scope=col>DiabetesPedigreeFunction</th><th scope=col>Age</th><th scope=col>Outcome</th></tr></thead>\n",
       "<tbody>\n",
       "\t<tr><th scope=row>763</th><td> 9   </td><td> 89  </td><td>62   </td><td> 0   </td><td>  0  </td><td>22.5 </td><td>0.142</td><td>33   </td><td>0    </td></tr>\n",
       "\t<tr><th scope=row>764</th><td>10   </td><td>101  </td><td>76   </td><td>48   </td><td>180  </td><td>32.9 </td><td>0.171</td><td>63   </td><td>0    </td></tr>\n",
       "\t<tr><th scope=row>765</th><td> 2   </td><td>122  </td><td>70   </td><td>27   </td><td>  0  </td><td>36.8 </td><td>0.340</td><td>27   </td><td>0    </td></tr>\n",
       "\t<tr><th scope=row>766</th><td> 5   </td><td>121  </td><td>72   </td><td>23   </td><td>112  </td><td>26.2 </td><td>0.245</td><td>30   </td><td>0    </td></tr>\n",
       "\t<tr><th scope=row>767</th><td> 1   </td><td>126  </td><td>60   </td><td> 0   </td><td>  0  </td><td>30.1 </td><td>0.349</td><td>47   </td><td>1    </td></tr>\n",
       "\t<tr><th scope=row>768</th><td> 1   </td><td> 93  </td><td>70   </td><td>31   </td><td>  0  </td><td>30.4 </td><td>0.315</td><td>23   </td><td>0    </td></tr>\n",
       "</tbody>\n",
       "</table>\n"
      ],
      "text/latex": [
       "\\begin{tabular}{r|lllllllll}\n",
       "  & Pregnancies & Glucose & BloodPressure & SkinThickness & Insulin & BMI & DiabetesPedigreeFunction & Age & Outcome\\\\\n",
       "\\hline\n",
       "\t763 &  9    &  89   & 62    &  0    &   0   & 22.5  & 0.142 & 33    & 0    \\\\\n",
       "\t764 & 10    & 101   & 76    & 48    & 180   & 32.9  & 0.171 & 63    & 0    \\\\\n",
       "\t765 &  2    & 122   & 70    & 27    &   0   & 36.8  & 0.340 & 27    & 0    \\\\\n",
       "\t766 &  5    & 121   & 72    & 23    & 112   & 26.2  & 0.245 & 30    & 0    \\\\\n",
       "\t767 &  1    & 126   & 60    &  0    &   0   & 30.1  & 0.349 & 47    & 1    \\\\\n",
       "\t768 &  1    &  93   & 70    & 31    &   0   & 30.4  & 0.315 & 23    & 0    \\\\\n",
       "\\end{tabular}\n"
      ],
      "text/markdown": [
       "\n",
       "| <!--/--> | Pregnancies | Glucose | BloodPressure | SkinThickness | Insulin | BMI | DiabetesPedigreeFunction | Age | Outcome |\n",
       "|---|---|---|---|---|---|---|---|---|---|\n",
       "| 763 |  9    |  89   | 62    |  0    |   0   | 22.5  | 0.142 | 33    | 0     |\n",
       "| 764 | 10    | 101   | 76    | 48    | 180   | 32.9  | 0.171 | 63    | 0     |\n",
       "| 765 |  2    | 122   | 70    | 27    |   0   | 36.8  | 0.340 | 27    | 0     |\n",
       "| 766 |  5    | 121   | 72    | 23    | 112   | 26.2  | 0.245 | 30    | 0     |\n",
       "| 767 |  1    | 126   | 60    |  0    |   0   | 30.1  | 0.349 | 47    | 1     |\n",
       "| 768 |  1    |  93   | 70    | 31    |   0   | 30.4  | 0.315 | 23    | 0     |\n",
       "\n"
      ],
      "text/plain": [
       "    Pregnancies Glucose BloodPressure SkinThickness Insulin BMI \n",
       "763  9           89     62             0              0     22.5\n",
       "764 10          101     76            48            180     32.9\n",
       "765  2          122     70            27              0     36.8\n",
       "766  5          121     72            23            112     26.2\n",
       "767  1          126     60             0              0     30.1\n",
       "768  1           93     70            31              0     30.4\n",
       "    DiabetesPedigreeFunction Age Outcome\n",
       "763 0.142                    33  0      \n",
       "764 0.171                    63  0      \n",
       "765 0.340                    27  0      \n",
       "766 0.245                    30  0      \n",
       "767 0.349                    47  1      \n",
       "768 0.315                    23  0      "
      ]
     },
     "metadata": {},
     "output_type": "display_data"
    }
   ],
   "source": [
    "# Visualizar as seis últimas linhas\n",
    "tail(df_diabetes)"
   ]
  },
  {
   "cell_type": "code",
   "execution_count": 6,
   "id": "lesser-liberia",
   "metadata": {},
   "outputs": [
    {
     "name": "stdout",
     "output_type": "stream",
     "text": [
      "Rows: 768\n",
      "Columns: 9\n",
      "$ Pregnancies              <int> 6, 1, 8, 1, 0, 5, 3, 10, 2, 8, 4, 10, 10, 1, ~\n",
      "$ Glucose                  <int> 148, 85, 183, 89, 137, 116, 78, 115, 197, 125~\n",
      "$ BloodPressure            <int> 72, 66, 64, 66, 40, 74, 50, 0, 70, 96, 92, 74~\n",
      "$ SkinThickness            <int> 35, 29, 0, 23, 35, 0, 32, 0, 45, 0, 0, 0, 0, ~\n",
      "$ Insulin                  <int> 0, 0, 0, 94, 168, 0, 88, 0, 543, 0, 0, 0, 0, ~\n",
      "$ BMI                      <dbl> 33.6, 26.6, 23.3, 28.1, 43.1, 25.6, 31.0, 35.~\n",
      "$ DiabetesPedigreeFunction <dbl> 0.627, 0.351, 0.672, 0.167, 2.288, 0.201, 0.2~\n",
      "$ Age                      <int> 50, 31, 32, 21, 33, 30, 26, 29, 53, 54, 30, 3~\n",
      "$ Outcome                  <int> 1, 0, 1, 0, 1, 0, 1, 0, 1, 1, 0, 1, 0, 1, 1, ~\n"
     ]
    }
   ],
   "source": [
    "# Visualização geral dos dados\n",
    "glimpse(df_diabetes)"
   ]
  },
  {
   "cell_type": "code",
   "execution_count": 7,
   "id": "distributed-browse",
   "metadata": {},
   "outputs": [
    {
     "data": {
      "text/html": [
       "<dl class=dl-horizontal>\n",
       "\t<dt>Pregnancies</dt>\n",
       "\t\t<dd>0</dd>\n",
       "\t<dt>Glucose</dt>\n",
       "\t\t<dd>0</dd>\n",
       "\t<dt>BloodPressure</dt>\n",
       "\t\t<dd>0</dd>\n",
       "\t<dt>SkinThickness</dt>\n",
       "\t\t<dd>0</dd>\n",
       "\t<dt>Insulin</dt>\n",
       "\t\t<dd>0</dd>\n",
       "\t<dt>BMI</dt>\n",
       "\t\t<dd>0</dd>\n",
       "\t<dt>DiabetesPedigreeFunction</dt>\n",
       "\t\t<dd>0</dd>\n",
       "\t<dt>Age</dt>\n",
       "\t\t<dd>0</dd>\n",
       "\t<dt>Outcome</dt>\n",
       "\t\t<dd>0</dd>\n",
       "</dl>\n"
      ],
      "text/latex": [
       "\\begin{description*}\n",
       "\\item[Pregnancies] 0\n",
       "\\item[Glucose] 0\n",
       "\\item[BloodPressure] 0\n",
       "\\item[SkinThickness] 0\n",
       "\\item[Insulin] 0\n",
       "\\item[BMI] 0\n",
       "\\item[DiabetesPedigreeFunction] 0\n",
       "\\item[Age] 0\n",
       "\\item[Outcome] 0\n",
       "\\end{description*}\n"
      ],
      "text/markdown": [
       "Pregnancies\n",
       ":   0Glucose\n",
       ":   0BloodPressure\n",
       ":   0SkinThickness\n",
       ":   0Insulin\n",
       ":   0BMI\n",
       ":   0DiabetesPedigreeFunction\n",
       ":   0Age\n",
       ":   0Outcome\n",
       ":   0\n",
       "\n"
      ],
      "text/plain": [
       "             Pregnancies                  Glucose            BloodPressure \n",
       "                       0                        0                        0 \n",
       "           SkinThickness                  Insulin                      BMI \n",
       "                       0                        0                        0 \n",
       "DiabetesPedigreeFunction                      Age                  Outcome \n",
       "                       0                        0                        0 "
      ]
     },
     "metadata": {},
     "output_type": "display_data"
    }
   ],
   "source": [
    "# Checar Nas\n",
    "sapply(df_diabetes, function(x) sum(is.na(x)))"
   ]
  },
  {
   "cell_type": "markdown",
   "id": "killing-linux",
   "metadata": {},
   "source": [
    "## 2. LIMPEZA, TRANSFORMAÇÃO E ANÁLISE EXPLORATÓRIA DOS DADOS"
   ]
  },
  {
   "cell_type": "markdown",
   "id": "great-signature",
   "metadata": {},
   "source": [
    "### 2.1 Dicionário das Variáveis"
   ]
  },
  {
   "cell_type": "markdown",
   "id": "bottom-northern",
   "metadata": {},
   "source": [
    "**Pregnancies:** Número de vezes que engravidou<br>\n",
    "**Glucose:** Concentração de glicose plasmática após duas horas do teste<br>\n",
    "**BloodPressure:** Pressão arterial diastólica (mm Hg)<br>\n",
    "**SkinThickness:** Espessura da dobra de pele do tríceps (mm)<br>\n",
    "**Insulin:** Insulina sérica após 2 horas do teste<br>\n",
    "**BMI:** Índice de massa corporal<br>\n",
    "**DiabetesPedigreeFunction:** Função que mede tendência a partir do histórico familiar<br>\n",
    "**Age:** Idade<br>\n",
    "**Outcome:** variável dependente (0 e 1)<br>"
   ]
  },
  {
   "cell_type": "markdown",
   "id": "offshore-technology",
   "metadata": {},
   "source": [
    "### 2.2 Variáveis"
   ]
  },
  {
   "cell_type": "code",
   "execution_count": 8,
   "id": "forward-thanks",
   "metadata": {},
   "outputs": [
    {
     "data": {
      "image/png": "[encoded data removed]",
      "text/plain": [
       "plot without title"
      ]
     },
     "metadata": {},
     "output_type": "display_data"
    }
   ],
   "source": [
    "# Plotar variável Outcome (dependente)\n",
    "df_diabetes %>%\n",
    "ggplot(aes(Outcome,fill=as.factor(Outcome))) +\n",
    "geom_bar(alpha=.5,show.legend=F) +\n",
    "labs(title=\"Outcome\",x=NULL,y=NULL)+\n",
    "theme(plot.title = element_text(hjust = 0.5))"
   ]
  },
  {
   "cell_type": "code",
   "execution_count": 9,
   "id": "alternate-variance",
   "metadata": {},
   "outputs": [],
   "source": [
    "# Plotar variável Pregnancies\n",
    "plot1<-df_diabetes %>%\n",
    "ggplot(aes(as.factor(Pregnancies),fill=as.factor(Pregnancies))) +\n",
    "geom_bar(show.legend=F,alpha=.5) +\n",
    "labs(title=\"Pregnancies\",y=NULL,x=NULL) +\n",
    "theme(plot.title = element_text(hjust = 0.5))"
   ]
  },
  {
   "cell_type": "code",
   "execution_count": 10,
   "id": "pretty-gross",
   "metadata": {},
   "outputs": [],
   "source": [
    "# Plotar variável Glucose\n",
    "plot2<-df_diabetes %>%\n",
    "ggplot(aes(Glucose)) +\n",
    "geom_histogram(fill = \"green\", color = \"red\", alpha = .5, bins = 40, boundary = 5) +\n",
    "labs(title=\"Glucose\",x=NULL,y=NULL)+\n",
    "theme(plot.title = element_text(hjust = 0.5))"
   ]
  },
  {
   "cell_type": "code",
   "execution_count": 11,
   "id": "dominant-powder",
   "metadata": {},
   "outputs": [],
   "source": [
    "# Plotar variável BloodPressure\n",
    "plot3<-df_diabetes %>%\n",
    "ggplot(aes(BloodPressure)) +\n",
    "geom_histogram(fill = \"blue\", color = \"yellow\", alpha = .5, bins = 40, boundary = 5) +\n",
    "labs(title=\"Blood Pressure\",x=NULL,y=NULL)+\n",
    "theme(plot.title = element_text(hjust = 0.5))"
   ]
  },
  {
   "cell_type": "code",
   "execution_count": 12,
   "id": "supreme-affairs",
   "metadata": {},
   "outputs": [
    {
     "data": {
      "image/png": "[encoded data removed]",
      "text/plain": [
       "plot without title"
      ]
     },
     "metadata": {},
     "output_type": "display_data"
    }
   ],
   "source": [
    "grid.arrange(plot1,plot2,plot3)"
   ]
  },
  {
   "cell_type": "code",
   "execution_count": 13,
   "id": "comic-samba",
   "metadata": {},
   "outputs": [],
   "source": [
    "# Plotar variável SkinThickness\n",
    "plot4<-df_diabetes %>%\n",
    "ggplot(aes(SkinThickness)) +\n",
    "geom_histogram(fill = \"green\", color = \"blue\", alpha = .5, bins = 40, boundary = 5) +\n",
    "labs(title=\"Skin Thickness\",x=NULL,y=NULL)+\n",
    "theme(plot.title = element_text(hjust = 0.5))"
   ]
  },
  {
   "cell_type": "code",
   "execution_count": 14,
   "id": "latin-fraction",
   "metadata": {},
   "outputs": [],
   "source": [
    "# Plotar variável Insulin\n",
    "plot5<-df_diabetes %>%\n",
    "ggplot(aes(Insulin)) +\n",
    "geom_histogram(fill = \"blue\", color = \"yellow\", alpha = .5, bins = 40, boundary = 5) +\n",
    "labs(title=\"Insulin\",x=NULL,y=NULL)+\n",
    "theme(plot.title = element_text(hjust = 0.5))"
   ]
  },
  {
   "cell_type": "code",
   "execution_count": 15,
   "id": "mobile-program",
   "metadata": {},
   "outputs": [],
   "source": [
    "# Plotar variável BMI\n",
    "plot6<-df_diabetes %>%\n",
    "ggplot(aes(BMI)) +\n",
    "geom_histogram(fill = \"lightblue\", color = \"purple\", alpha = .5, bins = 40, boundary = 5) +\n",
    "labs(title=\"BMI\",x=NULL,y=NULL)+\n",
    "theme(plot.title = element_text(hjust = 0.5))"
   ]
  },
  {
   "cell_type": "code",
   "execution_count": 16,
   "id": "stunning-boating",
   "metadata": {},
   "outputs": [
    {
     "data": {
      "image/png": "[encoded data removed]",
      "text/plain": [
       "plot without title"
      ]
     },
     "metadata": {},
     "output_type": "display_data"
    }
   ],
   "source": [
    "grid.arrange(plot4,plot5,plot6)"
   ]
  },
  {
   "cell_type": "code",
   "execution_count": 17,
   "id": "systematic-cigarette",
   "metadata": {},
   "outputs": [],
   "source": [
    "# Plotar variável DiabetesPedigreeFunction\n",
    "plot7<-df_diabetes %>%\n",
    "ggplot(aes(DiabetesPedigreeFunction)) +\n",
    "geom_histogram(fill = \"green\", color = \"red\", alpha = .5, bins = 40, boundary = 5) +\n",
    "labs(title=\"Diabetes Pedigree Function\",x=NULL,y=NULL)+\n",
    "theme(plot.title = element_text(hjust = 0.5))"
   ]
  },
  {
   "cell_type": "code",
   "execution_count": 18,
   "id": "pending-robert",
   "metadata": {},
   "outputs": [],
   "source": [
    "# Plotar variável Age\n",
    "plot8<-df_diabetes %>%\n",
    "ggplot(aes(Age)) +\n",
    "geom_histogram(fill = \"green\", color = \"purple\", alpha = .5, bins = 40, boundary = 5) +\n",
    "labs(title=\"Age\",x=NULL,y=NULL)+\n",
    "theme(plot.title = element_text(hjust = 0.5))"
   ]
  },
  {
   "cell_type": "code",
   "execution_count": 19,
   "id": "controlling-agreement",
   "metadata": {},
   "outputs": [
    {
     "data": {
      "image/png": "[encoded data removed]",
      "text/plain": [
       "plot without title"
      ]
     },
     "metadata": {},
     "output_type": "display_data"
    }
   ],
   "source": [
    "grid.arrange(plot7,plot8)"
   ]
  },
  {
   "cell_type": "code",
   "execution_count": 20,
   "id": "verbal-south",
   "metadata": {},
   "outputs": [
    {
     "data": {
      "image/png": "[encoded data removed]",
      "text/plain": [
       "Plot with title \"\""
      ]
     },
     "metadata": {},
     "output_type": "display_data"
    }
   ],
   "source": [
    "# Plotando correlação\n",
    "corrplot(cor(df_diabetes[,-9]),method=\"number\")"
   ]
  },
  {
   "cell_type": "markdown",
   "id": "czech-conference",
   "metadata": {},
   "source": [
    "### 2.3 Limpando e Transformando Variáveis"
   ]
  },
  {
   "cell_type": "markdown",
   "id": "violent-deviation",
   "metadata": {},
   "source": [
    "**Algumas variáveis possuem valores estranhos e devemos tomar uma decisão sobre como proceder**\n",
    "\n",
    "* Pregnancies: uma observação possui o valor de 17. Embora seja incomum, é possível que uma mulher tenha 17 gravidezes. Optamos por não realizar nenhum procedimento.\n",
    "* As variáveis Glucose (5), Bloodpressure (35), SkinThickness (227), Insulin (374) e BMI (11) possuem observações com valor zero. Dado suas características devemos realizar alterações. Iremos substituir os valores zero pela sua média.\n"
   ]
  },
  {
   "cell_type": "code",
   "execution_count": 21,
   "id": "hungarian-territory",
   "metadata": {},
   "outputs": [],
   "source": [
    "# Remover valores zero\n",
    "df_diabetes<-df_diabetes%>%\n",
    "mutate(Outcome=Outcome,Glucose=ifelse(Glucose==0,mean(Glucose,na.rm=T),Glucose),\n",
    "       BMI=ifelse(BMI==0,mean(BMI,na.rm=T),BMI),\n",
    "       BloodPressure=ifelse(BloodPressure==0,mean(BloodPressure,na.rm=T),BloodPressure),\n",
    "       SkinThickness=ifelse(SkinThickness==0,mean(SkinThickness,na.rm=T),SkinThickness),\n",
    "       Insulin=ifelse(Insulin==0,mean(Insulin,na.rm=T),Insulin))"
   ]
  },
  {
   "cell_type": "code",
   "execution_count": 22,
   "id": "portable-optics",
   "metadata": {},
   "outputs": [
    {
     "name": "stdout",
     "output_type": "stream",
     "text": [
      "Rows: 768\n",
      "Columns: 9\n",
      "$ Pregnancies              <int> 6, 1, 8, 1, 0, 5, 3, 10, 2, 8, 4, 10, 10, 1, ~\n",
      "$ Glucose                  <dbl> 148, 85, 183, 89, 137, 116, 78, 115, 197, 125~\n",
      "$ BloodPressure            <dbl> 72.00000, 66.00000, 64.00000, 66.00000, 40.00~\n",
      "$ SkinThickness            <dbl> 35.00000, 29.00000, 20.53646, 23.00000, 35.00~\n",
      "$ Insulin                  <dbl> 79.79948, 79.79948, 79.79948, 94.00000, 168.0~\n",
      "$ BMI                      <dbl> 33.60000, 26.60000, 23.30000, 28.10000, 43.10~\n",
      "$ DiabetesPedigreeFunction <dbl> 0.627, 0.351, 0.672, 0.167, 2.288, 0.201, 0.2~\n",
      "$ Age                      <int> 50, 31, 32, 21, 33, 30, 26, 29, 53, 54, 30, 3~\n",
      "$ Outcome                  <int> 1, 0, 1, 0, 1, 0, 1, 0, 1, 1, 0, 1, 0, 1, 1, ~\n"
     ]
    }
   ],
   "source": [
    "# Visão geral dos dados\n",
    "glimpse(df_diabetes)"
   ]
  },
  {
   "cell_type": "code",
   "execution_count": 23,
   "id": "orange-brighton",
   "metadata": {},
   "outputs": [],
   "source": [
    "# Transformando variáveis em fatores\n",
    "to.factors <- function(df, variables){\n",
    "  for (variable in variables){\n",
    "    df[[variable]] <- as.factor(df[[variable]])\n",
    "  }\n",
    "  return(df)\n",
    "}"
   ]
  },
  {
   "cell_type": "code",
   "execution_count": 24,
   "id": "worst-waters",
   "metadata": {},
   "outputs": [],
   "source": [
    "# Normalização\n",
    "scale.features <- function(df, variables){\n",
    "  for (variable in variables){\n",
    "    df[[variable]] <- scale(df[[variable]], center = T, scale = T)\n",
    "  }\n",
    "  return(df)\n",
    "}"
   ]
  },
  {
   "cell_type": "code",
   "execution_count": 25,
   "id": "experienced-sweet",
   "metadata": {},
   "outputs": [],
   "source": [
    "# Normalizando as variáveis\n",
    "numeric.vars <- c('Pregnancies','Glucose','BloodPressure','SkinThickness',\n",
    "                  'Insulin','BMI','DiabetesPedigreeFunction','Age')\n",
    "df_diabetes_scaled <- scale.features(df_diabetes, numeric.vars)"
   ]
  },
  {
   "cell_type": "code",
   "execution_count": 26,
   "id": "split-cannon",
   "metadata": {},
   "outputs": [],
   "source": [
    "# Variáveis do tipo fator\n",
    "categorical.vars <- \"Outcome\""
   ]
  },
  {
   "cell_type": "code",
   "execution_count": 27,
   "id": "loving-portugal",
   "metadata": {},
   "outputs": [],
   "source": [
    "# Aplicando as conversões ao dataset\n",
    "df_diabetes2 <- to.factors(df_diabetes_scaled, variables = categorical.vars )"
   ]
  },
  {
   "cell_type": "code",
   "execution_count": 28,
   "id": "surrounded-tobago",
   "metadata": {},
   "outputs": [
    {
     "data": {
      "text/html": [
       "<table>\n",
       "<thead><tr><th scope=col>Pregnancies</th><th scope=col>Glucose</th><th scope=col>BloodPressure</th><th scope=col>SkinThickness</th><th scope=col>Insulin</th><th scope=col>BMI</th><th scope=col>DiabetesPedigreeFunction</th><th scope=col>Age</th><th scope=col>Outcome</th></tr></thead>\n",
       "<tbody>\n",
       "\t<tr><td> 0.6395305 </td><td> 0.8647122 </td><td>-0.0210307 </td><td> 0.8714890 </td><td>-0.4174961 </td><td> 0.1671465 </td><td> 0.4681869 </td><td> 1.42506672</td><td>1          </td></tr>\n",
       "\t<tr><td>-0.8443348 </td><td>-1.2052039 </td><td>-0.5162464 </td><td> 0.2485163 </td><td>-0.4174961 </td><td>-0.8509800 </td><td>-0.3648230 </td><td>-0.19054773</td><td>0          </td></tr>\n",
       "\t<tr><td> 1.2330766 </td><td> 2.0146656 </td><td>-0.6813183 </td><td>-0.6302429 </td><td>-0.4174961 </td><td>-1.3309539 </td><td> 0.6040037 </td><td>-0.10551539</td><td>1          </td></tr>\n",
       "\t<tr><td>-0.8443348 </td><td>-1.0737807 </td><td>-0.5162464 </td><td>-0.3744563 </td><td>-0.2649341 </td><td>-0.6328100 </td><td>-0.9201630 </td><td>-1.04087112</td><td>0          </td></tr>\n",
       "\t<tr><td>-1.1411079 </td><td> 0.5032983 </td><td>-2.6621813 </td><td> 0.8714890 </td><td> 0.5300779 </td><td> 1.5488896 </td><td> 5.4813370 </td><td>-0.02048305</td><td>1          </td></tr>\n",
       "\t<tr><td> 0.3427574 </td><td>-0.1866737 </td><td> 0.1440412 </td><td>-0.6302429 </td><td>-0.4174961 </td><td>-0.9964266 </td><td>-0.8175458 </td><td>-0.27558007</td><td>0          </td></tr>\n",
       "</tbody>\n",
       "</table>\n"
      ],
      "text/latex": [
       "\\begin{tabular}{r|lllllllll}\n",
       " Pregnancies & Glucose & BloodPressure & SkinThickness & Insulin & BMI & DiabetesPedigreeFunction & Age & Outcome\\\\\n",
       "\\hline\n",
       "\t  0.6395305  &  0.8647122  & -0.0210307  &  0.8714890  & -0.4174961  &  0.1671465  &  0.4681869  &  1.42506672 & 1          \\\\\n",
       "\t -0.8443348  & -1.2052039  & -0.5162464  &  0.2485163  & -0.4174961  & -0.8509800  & -0.3648230  & -0.19054773 & 0          \\\\\n",
       "\t  1.2330766  &  2.0146656  & -0.6813183  & -0.6302429  & -0.4174961  & -1.3309539  &  0.6040037  & -0.10551539 & 1          \\\\\n",
       "\t -0.8443348  & -1.0737807  & -0.5162464  & -0.3744563  & -0.2649341  & -0.6328100  & -0.9201630  & -1.04087112 & 0          \\\\\n",
       "\t -1.1411079  &  0.5032983  & -2.6621813  &  0.8714890  &  0.5300779  &  1.5488896  &  5.4813370  & -0.02048305 & 1          \\\\\n",
       "\t  0.3427574  & -0.1866737  &  0.1440412  & -0.6302429  & -0.4174961  & -0.9964266  & -0.8175458  & -0.27558007 & 0          \\\\\n",
       "\\end{tabular}\n"
      ],
      "text/markdown": [
       "\n",
       "| Pregnancies | Glucose | BloodPressure | SkinThickness | Insulin | BMI | DiabetesPedigreeFunction | Age | Outcome |\n",
       "|---|---|---|---|---|---|---|---|---|\n",
       "|  0.6395305  |  0.8647122  | -0.0210307  |  0.8714890  | -0.4174961  |  0.1671465  |  0.4681869  |  1.42506672 | 1           |\n",
       "| -0.8443348  | -1.2052039  | -0.5162464  |  0.2485163  | -0.4174961  | -0.8509800  | -0.3648230  | -0.19054773 | 0           |\n",
       "|  1.2330766  |  2.0146656  | -0.6813183  | -0.6302429  | -0.4174961  | -1.3309539  |  0.6040037  | -0.10551539 | 1           |\n",
       "| -0.8443348  | -1.0737807  | -0.5162464  | -0.3744563  | -0.2649341  | -0.6328100  | -0.9201630  | -1.04087112 | 0           |\n",
       "| -1.1411079  |  0.5032983  | -2.6621813  |  0.8714890  |  0.5300779  |  1.5488896  |  5.4813370  | -0.02048305 | 1           |\n",
       "|  0.3427574  | -0.1866737  |  0.1440412  | -0.6302429  | -0.4174961  | -0.9964266  | -0.8175458  | -0.27558007 | 0           |\n",
       "\n"
      ],
      "text/plain": [
       "  Pregnancies Glucose    BloodPressure SkinThickness Insulin    BMI       \n",
       "1  0.6395305   0.8647122 -0.0210307     0.8714890    -0.4174961  0.1671465\n",
       "2 -0.8443348  -1.2052039 -0.5162464     0.2485163    -0.4174961 -0.8509800\n",
       "3  1.2330766   2.0146656 -0.6813183    -0.6302429    -0.4174961 -1.3309539\n",
       "4 -0.8443348  -1.0737807 -0.5162464    -0.3744563    -0.2649341 -0.6328100\n",
       "5 -1.1411079   0.5032983 -2.6621813     0.8714890     0.5300779  1.5488896\n",
       "6  0.3427574  -0.1866737  0.1440412    -0.6302429    -0.4174961 -0.9964266\n",
       "  DiabetesPedigreeFunction Age         Outcome\n",
       "1  0.4681869                1.42506672 1      \n",
       "2 -0.3648230               -0.19054773 0      \n",
       "3  0.6040037               -0.10551539 1      \n",
       "4 -0.9201630               -1.04087112 0      \n",
       "5  5.4813370               -0.02048305 1      \n",
       "6 -0.8175458               -0.27558007 0      "
      ]
     },
     "metadata": {},
     "output_type": "display_data"
    }
   ],
   "source": [
    "# Visualizar dados pré-processados\n",
    "head(df_diabetes2)"
   ]
  },
  {
   "cell_type": "markdown",
   "id": "afraid-southwest",
   "metadata": {},
   "source": [
    "## 3. MODELOS"
   ]
  },
  {
   "cell_type": "code",
   "execution_count": 29,
   "id": "verbal-appliance",
   "metadata": {},
   "outputs": [],
   "source": [
    "# Preparando os dados de treino e de teste\n",
    "indexes <- sample(1:nrow(df_diabetes2), size = 0.6 * nrow(df_diabetes2))\n",
    "train.data <- df_diabetes2[indexes,]\n",
    "test.data <- df_diabetes2[-indexes,]"
   ]
  },
  {
   "cell_type": "code",
   "execution_count": 30,
   "id": "artificial-syndrome",
   "metadata": {},
   "outputs": [],
   "source": [
    "# Separando os atributos e as classes\n",
    "test.feature.vars <- test.data[,-9]\n",
    "test.class.var <- test.data[,9]"
   ]
  },
  {
   "cell_type": "markdown",
   "id": "interesting-apollo",
   "metadata": {},
   "source": [
    "### Modelo 1"
   ]
  },
  {
   "cell_type": "markdown",
   "id": "optional-football",
   "metadata": {},
   "source": [
    "* O Modelo 1 tem a variável Outcome como dependente e as restantes como independentes."
   ]
  },
  {
   "cell_type": "code",
   "execution_count": 31,
   "id": "featured-battlefield",
   "metadata": {},
   "outputs": [],
   "source": [
    "# Construindo o modelo de regressão logística\n",
    "modelo_v1 <- glm(Outcome ~., train.data, family = \"binomial\")\n"
   ]
  },
  {
   "cell_type": "code",
   "execution_count": 32,
   "id": "reserved-musician",
   "metadata": {},
   "outputs": [
    {
     "data": {
      "text/plain": [
       "\n",
       "Call:\n",
       "glm(formula = Outcome ~ ., family = \"binomial\", data = train.data)\n",
       "\n",
       "Deviance Residuals: \n",
       "    Min       1Q   Median       3Q      Max  \n",
       "-2.8281  -0.6561  -0.3324   0.6238   2.3079  \n",
       "\n",
       "Coefficients:\n",
       "                         Estimate Std. Error z value Pr(>|z|)    \n",
       "(Intercept)              -1.02011    0.13576  -7.514 5.73e-14 ***\n",
       "Pregnancies               0.60451    0.14820   4.079 4.52e-05 ***\n",
       "Glucose                   1.20838    0.15694   7.700 1.36e-14 ***\n",
       "BloodPressure            -0.08131    0.14504  -0.561  0.57507    \n",
       "SkinThickness             0.03590    0.14549   0.247  0.80508    \n",
       "Insulin                  -0.18918    0.14937  -1.267  0.20533    \n",
       "BMI                       0.76364    0.16757   4.557 5.19e-06 ***\n",
       "DiabetesPedigreeFunction  0.41371    0.13146   3.147  0.00165 ** \n",
       "Age                       0.10669    0.15350   0.695  0.48704    \n",
       "---\n",
       "Signif. codes:  0 '***' 0.001 '**' 0.01 '*' 0.05 '.' 0.1 ' ' 1\n",
       "\n",
       "(Dispersion parameter for binomial family taken to be 1)\n",
       "\n",
       "    Null deviance: 589.22  on 459  degrees of freedom\n",
       "Residual deviance: 395.91  on 451  degrees of freedom\n",
       "AIC: 413.91\n",
       "\n",
       "Number of Fisher Scoring iterations: 5\n"
      ]
     },
     "metadata": {},
     "output_type": "display_data"
    }
   ],
   "source": [
    "# Visualizando os detalhes do modelo\n",
    "summary(modelo_v1)"
   ]
  },
  {
   "cell_type": "code",
   "execution_count": 33,
   "id": "advance-luxembourg",
   "metadata": {},
   "outputs": [],
   "source": [
    "# Avaliando modelo 1\n",
    "previsoes <- predict(modelo_v1, test.data, type = \"response\")\n",
    "previsoes <- round(previsoes)"
   ]
  },
  {
   "cell_type": "code",
   "execution_count": 34,
   "id": "phantom-processor",
   "metadata": {},
   "outputs": [
    {
     "data": {
      "text/plain": [
       "Confusion Matrix and Statistics\n",
       "\n",
       "    reference\n",
       "data   0   1\n",
       "   0 175  57\n",
       "   1  21  55\n",
       "                                          \n",
       "               Accuracy : 0.7468          \n",
       "                 95% CI : (0.6943, 0.7944)\n",
       "    No Information Rate : 0.6364          \n",
       "    P-Value [Acc > NIR] : 2.341e-05       \n",
       "                                          \n",
       "                  Kappa : 0.4123          \n",
       "                                          \n",
       " Mcnemar's Test P-Value : 7.402e-05       \n",
       "                                          \n",
       "            Sensitivity : 0.4911          \n",
       "            Specificity : 0.8929          \n",
       "         Pos Pred Value : 0.7237          \n",
       "         Neg Pred Value : 0.7543          \n",
       "             Prevalence : 0.3636          \n",
       "         Detection Rate : 0.1786          \n",
       "   Detection Prevalence : 0.2468          \n",
       "      Balanced Accuracy : 0.6920          \n",
       "                                          \n",
       "       'Positive' Class : 1               \n",
       "                                          "
      ]
     },
     "metadata": {},
     "output_type": "display_data"
    }
   ],
   "source": [
    "# Confusion Matrix\n",
    "confusionMatrix(table(data = previsoes, reference = test.class.var), positive = '1')"
   ]
  },
  {
   "cell_type": "code",
   "execution_count": 35,
   "id": "appointed-ticket",
   "metadata": {},
   "outputs": [
    {
     "name": "stderr",
     "output_type": "stream",
     "text": [
      "Setting levels: control = 0, case = 1\n",
      "Setting direction: controls < cases\n",
      "Warning message in plot.ci.se(ci, type = \"shape\", col = \"lightblue\"):\n",
      "\"Low definition shape.\""
     ]
    },
    {
     "data": {
      "image/png": "[encoded data removed]",
      "text/plain": [
       "plot without title"
      ]
     },
     "metadata": {},
     "output_type": "display_data"
    }
   ],
   "source": [
    "# Plotando curva ROC\n",
    "curva<- roc(test.data$Outcome,previsoes,\n",
    "                smoothed = TRUE,\n",
    "                ci=TRUE, ci.alpha=0.9, stratified=FALSE,\n",
    "                plot=TRUE, auc.polygon=TRUE, max.auc.polygon=TRUE, grid=TRUE,\n",
    "                print.auc=TRUE, show.thres=TRUE)\n",
    "ci <- ci.se(curva)\n",
    "plot(ci, type=\"shape\", col=\"lightblue\")"
   ]
  },
  {
   "cell_type": "code",
   "execution_count": 50,
   "id": "recent-biodiversity",
   "metadata": {},
   "outputs": [
    {
     "data": {
      "image/png": "[encoded data removed]",
      "text/plain": [
       "plot without title"
      ]
     },
     "metadata": {},
     "output_type": "display_data"
    }
   ],
   "source": [
    "# Gráficos dos aspectos do modelo\n",
    "aspectos_modelo <- evalmod(scores = previsoes, labels = test.data$Outcome, mode=\"basic\")\n",
    "autoplot(aspectos_modelo)"
   ]
  },
  {
   "cell_type": "markdown",
   "id": "worse-johnston",
   "metadata": {},
   "source": [
    "### Modelo 2"
   ]
  },
  {
   "cell_type": "markdown",
   "id": "hungry-fighter",
   "metadata": {},
   "source": [
    "* No Modelo 2 selecionamos as variáveis mais importantes, são elas: *Glucose*, *BMI*, *Pregnancies* e *DiabetesPedigreeFunction*"
   ]
  },
  {
   "cell_type": "code",
   "execution_count": 36,
   "id": "prepared-dress",
   "metadata": {},
   "outputs": [],
   "source": [
    "# Selecionando as variáveis mais importantes\n",
    "control <- trainControl(method = \"repeatedcv\", number = 10, repeats = 3)\n",
    "model <- train(Outcome~., train.data, method = \"glm\", trControl = control)\n",
    "importance <- varImp(model, scale = FALSE)"
   ]
  },
  {
   "cell_type": "code",
   "execution_count": 37,
   "id": "collective-roberts",
   "metadata": {
    "scrolled": false
   },
   "outputs": [
    {
     "data": {
      "image/png": "[encoded data removed]",
      "text/plain": [
       "plot without title"
      ]
     },
     "metadata": {},
     "output_type": "display_data"
    }
   ],
   "source": [
    "# Plotando variáveis mais importantes\n",
    "importance %>%\n",
    "ggplot(aes(importante)) +\n",
    "geom_col(alpha=.5,fill=\"lightblue\") +\n",
    "labs(y=NULL,x=NULL,title=\"Variáveis Mais Importantes\") +\n",
    "theme(plot.title = element_text(hjust = 0.5))"
   ]
  },
  {
   "cell_type": "code",
   "execution_count": 38,
   "id": "affiliated-volleyball",
   "metadata": {},
   "outputs": [],
   "source": [
    "# Modelo 2\n",
    "modelo_v2 <- glm(Outcome~ Glucose+BMI+Pregnancies+DiabetesPedigreeFunction,\n",
    "                 train.data, family = \"binomial\")"
   ]
  },
  {
   "cell_type": "code",
   "execution_count": 39,
   "id": "assumed-kansas",
   "metadata": {},
   "outputs": [
    {
     "data": {
      "text/plain": [
       "\n",
       "Call:\n",
       "glm(formula = Outcome ~ Glucose + BMI + Pregnancies + DiabetesPedigreeFunction, \n",
       "    family = \"binomial\", data = train.data)\n",
       "\n",
       "Deviance Residuals: \n",
       "    Min       1Q   Median       3Q      Max  \n",
       "-3.0307  -0.6637  -0.3351   0.6081   2.3597  \n",
       "\n",
       "Coefficients:\n",
       "                         Estimate Std. Error z value Pr(>|z|)    \n",
       "(Intercept)               -1.0069     0.1340  -7.515 5.69e-14 ***\n",
       "Glucose                    1.1558     0.1412   8.187 2.67e-16 ***\n",
       "BMI                        0.7279     0.1425   5.110 3.23e-07 ***\n",
       "Pregnancies                0.6553     0.1260   5.203 1.96e-07 ***\n",
       "DiabetesPedigreeFunction   0.4013     0.1299   3.090    0.002 ** \n",
       "---\n",
       "Signif. codes:  0 '***' 0.001 '**' 0.01 '*' 0.05 '.' 0.1 ' ' 1\n",
       "\n",
       "(Dispersion parameter for binomial family taken to be 1)\n",
       "\n",
       "    Null deviance: 589.22  on 459  degrees of freedom\n",
       "Residual deviance: 398.32  on 455  degrees of freedom\n",
       "AIC: 408.32\n",
       "\n",
       "Number of Fisher Scoring iterations: 5\n"
      ]
     },
     "metadata": {},
     "output_type": "display_data"
    }
   ],
   "source": [
    "# Sumário do Modelo 2\n",
    "summary(modelo_v2)"
   ]
  },
  {
   "cell_type": "code",
   "execution_count": 40,
   "id": "innovative-feedback",
   "metadata": {},
   "outputs": [],
   "source": [
    "# Avaliando modelo 2\n",
    "previsoes2 <- predict(modelo_v2, test.data, type = \"response\")\n",
    "previsoes2 <- round(previsoes2)"
   ]
  },
  {
   "cell_type": "code",
   "execution_count": 41,
   "id": "difficult-butterfly",
   "metadata": {},
   "outputs": [
    {
     "data": {
      "text/plain": [
       "Confusion Matrix and Statistics\n",
       "\n",
       "    reference\n",
       "data   0   1\n",
       "   0 174  56\n",
       "   1  22  56\n",
       "                                          \n",
       "               Accuracy : 0.7468          \n",
       "                 95% CI : (0.6943, 0.7944)\n",
       "    No Information Rate : 0.6364          \n",
       "    P-Value [Acc > NIR] : 2.341e-05       \n",
       "                                          \n",
       "                  Kappa : 0.4147          \n",
       "                                          \n",
       " Mcnemar's Test P-Value : 0.0001866       \n",
       "                                          \n",
       "            Sensitivity : 0.5000          \n",
       "            Specificity : 0.8878          \n",
       "         Pos Pred Value : 0.7179          \n",
       "         Neg Pred Value : 0.7565          \n",
       "             Prevalence : 0.3636          \n",
       "         Detection Rate : 0.1818          \n",
       "   Detection Prevalence : 0.2532          \n",
       "      Balanced Accuracy : 0.6939          \n",
       "                                          \n",
       "       'Positive' Class : 1               \n",
       "                                          "
      ]
     },
     "metadata": {},
     "output_type": "display_data"
    }
   ],
   "source": [
    "# Confusion Matrix\n",
    "confusionMatrix(table(data = previsoes2, reference = test.class.var), positive = '1')"
   ]
  },
  {
   "cell_type": "code",
   "execution_count": 42,
   "id": "annual-recording",
   "metadata": {},
   "outputs": [
    {
     "name": "stderr",
     "output_type": "stream",
     "text": [
      "Setting levels: control = 0, case = 1\n",
      "Setting direction: controls < cases\n",
      "Warning message in plot.ci.se(ci, type = \"shape\", col = \"lightblue\"):\n",
      "\"Low definition shape.\""
     ]
    },
    {
     "data": {
      "image/png": "[encoded data removed]",
      "text/plain": [
       "plot without title"
      ]
     },
     "metadata": {},
     "output_type": "display_data"
    }
   ],
   "source": [
    "# Plotando curva ROC\n",
    "curva<- roc(test.data$Outcome,previsoes2,\n",
    "                smoothed = TRUE,\n",
    "                ci=TRUE, ci.alpha=0.9, stratified=FALSE,\n",
    "                plot=TRUE, auc.polygon=TRUE, max.auc.polygon=TRUE, grid=TRUE,\n",
    "                print.auc=TRUE, show.thres=TRUE)\n",
    "ci <- ci.se(curva)\n",
    "plot(ci, type=\"shape\", col=\"lightblue\")"
   ]
  },
  {
   "cell_type": "code",
   "execution_count": 43,
   "id": "enclosed-intranet",
   "metadata": {},
   "outputs": [
    {
     "data": {
      "image/png": "[encoded data removed]",
      "text/plain": [
       "plot without title"
      ]
     },
     "metadata": {},
     "output_type": "display_data"
    }
   ],
   "source": [
    "# Gráficos dos aspectos do modelo\n",
    "aspectos_modelo <- evalmod(scores = previsoes2, labels = test.data$Outcome, mode=\"basic\")\n",
    "autoplot(aspectos_modelo)"
   ]
  },
  {
   "cell_type": "markdown",
   "id": "liable-duplicate",
   "metadata": {},
   "source": [
    "### Modelo 3"
   ]
  },
  {
   "cell_type": "markdown",
   "id": "computational-partnership",
   "metadata": {},
   "source": [
    "* Adicionamos a interação entre as variáveis Insulin e Age"
   ]
  },
  {
   "cell_type": "code",
   "execution_count": 44,
   "id": "injured-ocean",
   "metadata": {},
   "outputs": [],
   "source": [
    "# Modelo 3\n",
    "modelo_v3 <- glm(Outcome~ Glucose+BMI+Pregnancies+DiabetesPedigreeFunction+Insulin:Age,\n",
    "                 train.data, family = \"binomial\")"
   ]
  },
  {
   "cell_type": "code",
   "execution_count": 45,
   "id": "facial-paintball",
   "metadata": {},
   "outputs": [
    {
     "data": {
      "text/plain": [
       "\n",
       "Call:\n",
       "glm(formula = Outcome ~ Glucose + BMI + Pregnancies + DiabetesPedigreeFunction + \n",
       "    Insulin:Age, family = \"binomial\", data = train.data)\n",
       "\n",
       "Deviance Residuals: \n",
       "    Min       1Q   Median       3Q      Max  \n",
       "-2.9213  -0.6412  -0.3395   0.5993   2.4606  \n",
       "\n",
       "Coefficients:\n",
       "                         Estimate Std. Error z value Pr(>|z|)    \n",
       "(Intercept)               -0.9657     0.1345  -7.181 6.92e-13 ***\n",
       "Glucose                    1.2096     0.1465   8.259  < 2e-16 ***\n",
       "BMI                        0.7129     0.1440   4.949 7.45e-07 ***\n",
       "Pregnancies                0.6439     0.1271   5.064 4.10e-07 ***\n",
       "DiabetesPedigreeFunction   0.4113     0.1303   3.158  0.00159 ** \n",
       "Insulin:Age                0.4298     0.1895   2.269  0.02328 *  \n",
       "---\n",
       "Signif. codes:  0 '***' 0.001 '**' 0.01 '*' 0.05 '.' 0.1 ' ' 1\n",
       "\n",
       "(Dispersion parameter for binomial family taken to be 1)\n",
       "\n",
       "    Null deviance: 589.22  on 459  degrees of freedom\n",
       "Residual deviance: 392.35  on 454  degrees of freedom\n",
       "AIC: 404.35\n",
       "\n",
       "Number of Fisher Scoring iterations: 5\n"
      ]
     },
     "metadata": {},
     "output_type": "display_data"
    }
   ],
   "source": [
    "# Sumário do Modelo 3\n",
    "summary(modelo_v3)"
   ]
  },
  {
   "cell_type": "code",
   "execution_count": 46,
   "id": "adopted-ceremony",
   "metadata": {},
   "outputs": [],
   "source": [
    "# Avaliando modelo 3\n",
    "previsoes3 <- predict(modelo_v3, test.data, type = \"response\")\n",
    "previsoes3 <- round(previsoes3)"
   ]
  },
  {
   "cell_type": "code",
   "execution_count": 47,
   "id": "amateur-visitor",
   "metadata": {},
   "outputs": [
    {
     "data": {
      "text/plain": [
       "Confusion Matrix and Statistics\n",
       "\n",
       "    reference\n",
       "data   0   1\n",
       "   0 178  58\n",
       "   1  18  54\n",
       "                                          \n",
       "               Accuracy : 0.7532          \n",
       "                 95% CI : (0.7012, 0.8004)\n",
       "    No Information Rate : 0.6364          \n",
       "    P-Value [Acc > NIR] : 7.690e-06       \n",
       "                                          \n",
       "                  Kappa : 0.4227          \n",
       "                                          \n",
       " Mcnemar's Test P-Value : 7.691e-06       \n",
       "                                          \n",
       "            Sensitivity : 0.4821          \n",
       "            Specificity : 0.9082          \n",
       "         Pos Pred Value : 0.7500          \n",
       "         Neg Pred Value : 0.7542          \n",
       "             Prevalence : 0.3636          \n",
       "         Detection Rate : 0.1753          \n",
       "   Detection Prevalence : 0.2338          \n",
       "      Balanced Accuracy : 0.6952          \n",
       "                                          \n",
       "       'Positive' Class : 1               \n",
       "                                          "
      ]
     },
     "metadata": {},
     "output_type": "display_data"
    }
   ],
   "source": [
    "# Confusion Matrix\n",
    "confusionMatrix(table(data = previsoes3, reference = test.class.var), positive = '1')"
   ]
  },
  {
   "cell_type": "code",
   "execution_count": 48,
   "id": "considerable-creature",
   "metadata": {},
   "outputs": [
    {
     "name": "stderr",
     "output_type": "stream",
     "text": [
      "Setting levels: control = 0, case = 1\n",
      "Setting direction: controls < cases\n",
      "Warning message in plot.ci.se(ci, type = \"shape\", col = \"lightblue\"):\n",
      "\"Low definition shape.\""
     ]
    },
    {
     "data": {
      "image/png": "[encoded data removed]",
      "text/plain": [
       "plot without title"
      ]
     },
     "metadata": {},
     "output_type": "display_data"
    }
   ],
   "source": [
    "# Plotando curva ROC\n",
    "curva<- roc(test.data$Outcome,previsoes3,\n",
    "                smoothed = TRUE,\n",
    "                ci=TRUE, ci.alpha=0.9, stratified=FALSE,\n",
    "                plot=TRUE, auc.polygon=TRUE, max.auc.polygon=TRUE, grid=TRUE,\n",
    "                print.auc=TRUE, show.thres=TRUE)\n",
    "ci <- ci.se(curva)\n",
    "plot(ci, type=\"shape\", col=\"lightblue\")"
   ]
  },
  {
   "cell_type": "code",
   "execution_count": 49,
   "id": "binary-gospel",
   "metadata": {},
   "outputs": [
    {
     "data": {
      "image/png": "[encoded data removed]",
      "text/plain": [
       "plot without title"
      ]
     },
     "metadata": {},
     "output_type": "display_data"
    }
   ],
   "source": [
    "# Gráficos dos aspectos do modelo\n",
    "aspectos_modelo <- evalmod(scores = previsoes3, labels = test.data$Outcome, mode=\"basic\")\n",
    "autoplot(aspectos_modelo)"
   ]
  },
  {
   "cell_type": "markdown",
   "id": "cardiovascular-plaza",
   "metadata": {},
   "source": [
    "### Resultados"
   ]
  },
  {
   "cell_type": "markdown",
   "id": "neural-attendance",
   "metadata": {},
   "source": [
    "<pre>\n",
    "              Modelo1   Modelo2    Modelo3\n",
    "Accuracy:     0.7468    0.7468\t 0.7532  \n",
    "Sensitivity:  0.4911    0.5000\t 0.4911      \n",
    "Specificity:  0.8929\t0.8878\t 0.9031 \n",
    "</pre>"
   ]
  },
  {
   "cell_type": "markdown",
   "id": "informed-display",
   "metadata": {},
   "source": [
    "DIEGO RAMIREZ <br>\n",
    "daarfarias@hotmail.com <br>\n",
    "https://github.com/daarfarias"
   ]
  }
 ],
 "metadata": {
  "kernelspec": {
   "display_name": "R",
   "language": "R",
   "name": "ir"
  },
  "language_info": {
   "codemirror_mode": "r",
   "file_extension": ".r",
   "mimetype": "text/x-r-source",
   "name": "R",
   "pygments_lexer": "r",
   "version": "3.6.1"
  }
 },
 "nbformat": 4,
 "nbformat_minor": 5
}
